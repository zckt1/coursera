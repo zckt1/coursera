{
 "cells": [
  {
   "cell_type": "markdown",
   "metadata": {},
   "source": [
    "<p style=\"text-align:center\">\n",
    "    <a href=\"https://skills.network/?utm_medium=Exinfluencer&utm_source=Exinfluencer&utm_content=000026UJ&utm_term=10006555&utm_id=NA-SkillsNetwork-Channel-SkillsNetworkCoursesIBMDA0321ENSkillsNetwork21426264-2022-01-01\" target=\"_blank\">\n",
    "    <img src=\"https://cf-courses-data.s3.us.cloud-object-storage.appdomain.cloud/assets/logos/SN_web_lightmode.png\" width=\"200\" alt=\"Skills Network Logo\"  />\n",
    "    </a>\n",
    "</p>\n"
   ]
  },
  {
   "cell_type": "markdown",
   "metadata": {},
   "source": [
    "# **Data Wrangling Lab**\n"
   ]
  },
  {
   "cell_type": "markdown",
   "metadata": {},
   "source": [
    "Estimated time needed: **45 to 60** minutes\n"
   ]
  },
  {
   "cell_type": "markdown",
   "metadata": {},
   "source": [
    "In this assignment you will be performing data wrangling.\n"
   ]
  },
  {
   "cell_type": "markdown",
   "metadata": {},
   "source": [
    "## Objectives\n"
   ]
  },
  {
   "cell_type": "markdown",
   "metadata": {},
   "source": [
    "In this lab you will perform the following:\n"
   ]
  },
  {
   "cell_type": "markdown",
   "metadata": {},
   "source": [
    "*   Identify duplicate values in the dataset.\n",
    "\n",
    "*   Remove duplicate values from the dataset.\n",
    "\n",
    "*   Identify missing values in the dataset.\n",
    "\n",
    "*   Impute the missing values in the dataset.\n",
    "\n",
    "*   Normalize data in the dataset.\n"
   ]
  },
  {
   "cell_type": "markdown",
   "metadata": {},
   "source": [
    "<hr>\n"
   ]
  },
  {
   "cell_type": "markdown",
   "metadata": {},
   "source": [
    "## Hands on Lab\n"
   ]
  },
  {
   "cell_type": "markdown",
   "metadata": {},
   "source": [
    "Import pandas module.\n"
   ]
  },
  {
   "cell_type": "code",
   "execution_count": 1,
   "metadata": {},
   "outputs": [],
   "source": [
    "import pandas as pd"
   ]
  },
  {
   "cell_type": "markdown",
   "metadata": {},
   "source": [
    "Load the dataset into a dataframe.\n"
   ]
  },
  {
   "cell_type": "code",
   "execution_count": 2,
   "metadata": {},
   "outputs": [],
   "source": [
    "df = pd.read_csv(\"https://cf-courses-data.s3.us.cloud-object-storage.appdomain.cloud/IBM-DA0321EN-SkillsNetwork/LargeData/m1_survey_data.csv\")"
   ]
  },
  {
   "cell_type": "markdown",
   "metadata": {},
   "source": [
    "## Finding duplicates\n"
   ]
  },
  {
   "cell_type": "markdown",
   "metadata": {},
   "source": [
    "In this section you will identify duplicate values in the dataset.\n"
   ]
  },
  {
   "cell_type": "markdown",
   "metadata": {},
   "source": [
    "Find how many duplicate rows exist in the dataframe.\n"
   ]
  },
  {
   "cell_type": "code",
   "execution_count": 3,
   "metadata": {},
   "outputs": [
    {
     "name": "stdout",
     "output_type": "stream",
     "text": [
      "There are 154 duplicate rows.\n",
      "There are 154 duplicate Respondants.\n"
     ]
    }
   ],
   "source": [
    "# your code goes here\n",
    "print('There are', df.duplicated().sum(), 'duplicate rows.')\n",
    "print('There are', df.duplicated('Respondent').sum(), 'duplicate Respondants.')"
   ]
  },
  {
   "cell_type": "code",
   "execution_count": 4,
   "metadata": {},
   "outputs": [
    {
     "name": "stdout",
     "output_type": "stream",
     "text": [
      "There are 154 duplicate rows in Respondent\n",
      "There are 11550 duplicate rows in MainBranch\n",
      "There are 11550 duplicate rows in Hobbyist\n",
      "There are 11548 duplicate rows in OpenSourcer\n",
      "There are 11548 duplicate rows in OpenSource\n",
      "There are 11550 duplicate rows in Employment\n",
      "There are 11417 duplicate rows in Country\n",
      "There are 11548 duplicate rows in Student\n",
      "There are 11542 duplicate rows in EdLevel\n",
      "There are 11539 duplicate rows in UndergradMajor\n",
      "There are 11154 duplicate rows in EduOther\n",
      "There are 11542 duplicate rows in OrgSize\n",
      "There are 8795 duplicate rows in DevType\n",
      "There are 11500 duplicate rows in YearsCode\n",
      "There are 11511 duplicate rows in Age1stCode\n",
      "There are 11504 duplicate rows in YearsCodePro\n",
      "There are 11547 duplicate rows in CareerSat\n",
      "There are 11546 duplicate rows in JobSat\n",
      "There are 11547 duplicate rows in MgrIdiot\n",
      "There are 11548 duplicate rows in MgrMoney\n",
      "There are 11547 duplicate rows in MgrWant\n",
      "There are 11549 duplicate rows in JobSeek\n",
      "There are 11546 duplicate rows in LastHireDate\n",
      "There are 11488 duplicate rows in LastInt\n",
      "There are 11549 duplicate rows in FizzBuzz\n",
      "There are 11394 duplicate rows in JobFactors\n",
      "There are 11545 duplicate rows in ResumeUpdate\n",
      "There are 11450 duplicate rows in CurrencySymbol\n",
      "There are 11450 duplicate rows in CurrencyDesc\n",
      "There are 10042 duplicate rows in CompTotal\n",
      "There are 11548 duplicate rows in CompFreq\n",
      "There are 8036 duplicate rows in ConvertedComp\n",
      "There are 11438 duplicate rows in WorkWeekHrs\n",
      "There are 11548 duplicate rows in WorkPlan\n",
      "There are 11422 duplicate rows in WorkChallenge\n",
      "There are 11544 duplicate rows in WorkRemote\n",
      "There are 11548 duplicate rows in WorkLoc\n",
      "There are 11546 duplicate rows in ImpSyn\n",
      "There are 11548 duplicate rows in CodeRev\n",
      "There are 11501 duplicate rows in CodeRevHrs\n",
      "There are 11547 duplicate rows in UnitTests\n",
      "There are 11547 duplicate rows in PurchaseHow\n",
      "There are 11548 duplicate rows in PurchaseWhat\n",
      "There are 7017 duplicate rows in LanguageWorkedWith\n",
      "There are 5499 duplicate rows in LanguageDesireNextYear\n",
      "There are 9991 duplicate rows in DatabaseWorkedWith\n",
      "There are 9873 duplicate rows in DatabaseDesireNextYear\n",
      "There are 8675 duplicate rows in PlatformWorkedWith\n",
      "There are 8161 duplicate rows in PlatformDesireNextYear\n",
      "There are 10549 duplicate rows in WebFrameWorkedWith\n",
      "There are 10534 duplicate rows in WebFrameDesireNextYear\n",
      "There are 10657 duplicate rows in MiscTechWorkedWith\n",
      "There are 9799 duplicate rows in MiscTechDesireNextYear\n",
      "There are 9378 duplicate rows in DevEnviron\n",
      "There are 11547 duplicate rows in OpSys\n",
      "There are 11535 duplicate rows in Containers\n",
      "There are 11546 duplicate rows in BlockchainOrg\n",
      "There are 11546 duplicate rows in BlockchainIs\n",
      "There are 11549 duplicate rows in BetterLife\n",
      "There are 11547 duplicate rows in ITperson\n",
      "There are 11548 duplicate rows in OffOn\n",
      "There are 11537 duplicate rows in SocialMedia\n",
      "There are 11548 duplicate rows in Extraversion\n",
      "There are 11546 duplicate rows in ScreenName\n",
      "There are 11538 duplicate rows in SOVisit1st\n",
      "There are 11545 duplicate rows in SOVisitFreq\n",
      "There are 11493 duplicate rows in SOVisitTo\n",
      "There are 11546 duplicate rows in SOFindAnswer\n",
      "There are 11546 duplicate rows in SOTimeSaved\n",
      "There are 11547 duplicate rows in SOHowMuchTime\n",
      "There are 11548 duplicate rows in SOAccount\n",
      "There are 11545 duplicate rows in SOPartFreq\n",
      "There are 11548 duplicate rows in SOJobs\n",
      "There are 11548 duplicate rows in EntTeams\n",
      "There are 11546 duplicate rows in SOComm\n",
      "There are 11545 duplicate rows in WelcomeChange\n",
      "There are 11536 duplicate rows in SONewContent\n",
      "There are 11488 duplicate rows in Age\n",
      "There are 11544 duplicate rows in Gender\n",
      "There are 11549 duplicate rows in Trans\n",
      "There are 11544 duplicate rows in Sexuality\n",
      "There are 11462 duplicate rows in Ethnicity\n",
      "There are 11549 duplicate rows in Dependents\n",
      "There are 11548 duplicate rows in SurveyLength\n",
      "There are 11548 duplicate rows in SurveyEase\n"
     ]
    }
   ],
   "source": [
    "# all coloums?\n",
    "result = df.columns.tolist()\n",
    "\n",
    "for col in result:\n",
    "    print('There are', df.duplicated(col).sum(), 'duplicate rows in', col)"
   ]
  },
  {
   "cell_type": "markdown",
   "metadata": {},
   "source": [
    "## Removing duplicates\n"
   ]
  },
  {
   "cell_type": "markdown",
   "metadata": {},
   "source": [
    "Remove the duplicate rows from the dataframe.\n"
   ]
  },
  {
   "cell_type": "code",
   "execution_count": 5,
   "metadata": {},
   "outputs": [
    {
     "data": {
      "text/plain": [
       "(11398, 85)"
      ]
     },
     "execution_count": 5,
     "metadata": {},
     "output_type": "execute_result"
    }
   ],
   "source": [
    "# your code goes here\n",
    "df.drop_duplicates(inplace=True)\n",
    "df.shape"
   ]
  },
  {
   "cell_type": "code",
   "execution_count": 6,
   "metadata": {},
   "outputs": [
    {
     "data": {
      "text/plain": [
       "(11398, 85)"
      ]
     },
     "execution_count": 6,
     "metadata": {},
     "output_type": "execute_result"
    }
   ],
   "source": [
    "df.shape"
   ]
  },
  {
   "cell_type": "markdown",
   "metadata": {},
   "source": [
    "Verify if duplicates were actually dropped.\n"
   ]
  },
  {
   "cell_type": "code",
   "execution_count": 38,
   "metadata": {},
   "outputs": [
    {
     "name": "stdout",
     "output_type": "stream",
     "text": [
      "There are 0 duplicate rows in Respondent\n"
     ]
    }
   ],
   "source": [
    "# your code goes here\n",
    "\n",
    "print('There are', df.duplicated().sum(), 'duplicate rows in Respondent')\n"
   ]
  },
  {
   "cell_type": "code",
   "execution_count": 41,
   "metadata": {},
   "outputs": [
    {
     "data": {
      "text/plain": [
       "11398"
      ]
     },
     "execution_count": 41,
     "metadata": {},
     "output_type": "execute_result"
    }
   ],
   "source": [
    "df['Respondent'].count()"
   ]
  },
  {
   "cell_type": "markdown",
   "metadata": {},
   "source": [
    "## Finding Missing values\n"
   ]
  },
  {
   "cell_type": "markdown",
   "metadata": {},
   "source": [
    "Find the missing values for all columns.\n"
   ]
  },
  {
   "cell_type": "code",
   "execution_count": 8,
   "metadata": {},
   "outputs": [
    {
     "name": "stdout",
     "output_type": "stream",
     "text": [
      "Respondent                   0\n",
      "MainBranch                   0\n",
      "Hobbyist                     0\n",
      "OpenSourcer                  0\n",
      "OpenSource                  81\n",
      "Employment                   0\n",
      "Country                      0\n",
      "Student                     51\n",
      "EdLevel                    112\n",
      "UndergradMajor             737\n",
      "EduOther                   164\n",
      "OrgSize                     96\n",
      "DevType                     65\n",
      "YearsCode                    9\n",
      "Age1stCode                  13\n",
      "YearsCodePro                16\n",
      "CareerSat                    0\n",
      "JobSat                       1\n",
      "MgrIdiot                   493\n",
      "MgrMoney                   497\n",
      "MgrWant                    493\n",
      "JobSeek                      0\n",
      "LastHireDate                 0\n",
      "LastInt                    413\n",
      "FizzBuzz                    37\n",
      "JobFactors                   3\n",
      "ResumeUpdate                39\n",
      "CurrencySymbol               0\n",
      "CurrencyDesc                 0\n",
      "CompTotal                  809\n",
      "CompFreq                   206\n",
      "ConvertedComp              816\n",
      "WorkWeekHrs                122\n",
      "WorkPlan                   121\n",
      "WorkChallenge              164\n",
      "WorkRemote                   8\n",
      "WorkLoc                     32\n",
      "ImpSyn                       5\n",
      "CodeRev                      1\n",
      "CodeRevHrs                2426\n",
      "UnitTests                   29\n",
      "PurchaseHow                196\n",
      "PurchaseWhat                38\n",
      "LanguageWorkedWith          11\n",
      "LanguageDesireNextYear     134\n",
      "DatabaseWorkedWith         453\n",
      "DatabaseDesireNextYear    1042\n",
      "PlatformWorkedWith         411\n",
      "PlatformDesireNextYear     544\n",
      "WebFrameWorkedWith        1393\n",
      "WebFrameDesireNextYear    1617\n",
      "MiscTechWorkedWith        2182\n",
      "MiscTechDesireNextYear    1455\n",
      "DevEnviron                  29\n",
      "OpSys                       34\n",
      "Containers                  82\n",
      "BlockchainOrg             2322\n",
      "BlockchainIs              2610\n",
      "BetterLife                  98\n",
      "ITperson                    35\n",
      "OffOn                       38\n",
      "SocialMedia                293\n",
      "Extraversion                20\n",
      "ScreenName                 507\n",
      "SOVisit1st                 325\n",
      "SOVisitFreq                  5\n",
      "SOVisitTo                    1\n",
      "SOFindAnswer                 3\n",
      "SOTimeSaved                 50\n",
      "SOHowMuchTime             1917\n",
      "SOAccount                    1\n",
      "SOPartFreq                1128\n",
      "SOJobs                       6\n",
      "EntTeams                     5\n",
      "SOComm                       0\n",
      "WelcomeChange               85\n",
      "SONewContent              1965\n",
      "Age                        287\n",
      "Gender                      73\n",
      "Trans                      123\n",
      "Sexuality                  542\n",
      "Ethnicity                  675\n",
      "Dependents                 140\n",
      "SurveyLength                19\n",
      "SurveyEase                  14\n",
      "dtype: int64\n"
     ]
    }
   ],
   "source": [
    "# your code goes here\n",
    "with pd.option_context('display.max_rows', None, 'display.max_columns', None): # 'with' becoz of a long coloumns list\n",
    "    print(df.isnull().sum())"
   ]
  },
  {
   "cell_type": "code",
   "execution_count": 9,
   "metadata": {},
   "outputs": [
    {
     "name": "stdout",
     "output_type": "stream",
     "text": [
      "Respondent                 0.000000\n",
      "MainBranch                 0.000000\n",
      "Hobbyist                   0.000000\n",
      "OpenSourcer                0.000000\n",
      "OpenSource                 0.715737\n",
      "Employment                 0.000000\n",
      "Country                    0.000000\n",
      "Student                    0.449458\n",
      "EdLevel                    0.992380\n",
      "UndergradMajor             6.913048\n",
      "EduOther                   1.459854\n",
      "OrgSize                    0.849407\n",
      "DevType                    0.573546\n",
      "YearsCode                  0.079024\n",
      "Age1stCode                 0.114185\n",
      "YearsCodePro               0.140573\n",
      "CareerSat                  0.000000\n",
      "JobSat                     0.008774\n",
      "MgrIdiot                   4.520862\n",
      "MgrMoney                   4.559215\n",
      "MgrWant                    4.520862\n",
      "JobSeek                    0.000000\n",
      "LastHireDate               0.000000\n",
      "LastInt                    3.759672\n",
      "FizzBuzz                   0.325676\n",
      "JobFactors                 0.026327\n",
      "ResumeUpdate               0.343340\n",
      "CurrencySymbol             0.000000\n",
      "CurrencyDesc               0.000000\n",
      "CompTotal                  7.640004\n",
      "CompFreq                   1.840600\n",
      "ConvertedComp              7.711208\n",
      "WorkWeekHrs                1.081944\n",
      "WorkPlan                   1.072980\n",
      "WorkChallenge              1.459854\n",
      "WorkRemote                 0.070237\n",
      "WorkLoc                    0.281541\n",
      "ImpSyn                     0.043887\n",
      "CodeRev                    0.008774\n",
      "CodeRevHrs                27.039679\n",
      "UnitTests                  0.255080\n",
      "PurchaseHow                1.749688\n",
      "PurchaseWhat               0.334507\n",
      "LanguageWorkedWith         0.096601\n",
      "LanguageDesireNextYear     1.189631\n",
      "DatabaseWorkedWith         4.138876\n",
      "DatabaseDesireNextYear    10.061800\n",
      "PlatformWorkedWith         3.740785\n",
      "PlatformDesireNextYear     5.011977\n",
      "WebFrameWorkedWith        13.923038\n",
      "WebFrameDesireNextYear    16.532052\n",
      "MiscTechWorkedWith        23.676215\n",
      "MiscTechDesireNextYear    14.633410\n",
      "DevEnviron                 0.255080\n",
      "OpSys                      0.299190\n",
      "Containers                 0.724638\n",
      "BlockchainOrg             25.583958\n",
      "BlockchainIs              29.699590\n",
      "BetterLife                 0.867257\n",
      "ITperson                   0.308017\n",
      "OffOn                      0.334507\n",
      "SocialMedia                2.638451\n",
      "Extraversion               0.175778\n",
      "ScreenName                 4.655220\n",
      "SOVisit1st                 2.935067\n",
      "SOVisitFreq                0.043887\n",
      "SOVisitTo                  0.008774\n",
      "SOFindAnswer               0.026327\n",
      "SOTimeSaved                0.440606\n",
      "SOHowMuchTime             20.219386\n",
      "SOAccount                  0.008774\n",
      "SOPartFreq                10.983447\n",
      "SOJobs                     0.052669\n",
      "EntTeams                   0.043887\n",
      "SOComm                     0.000000\n",
      "WelcomeChange              0.751348\n",
      "SONewContent              20.831125\n",
      "Age                        2.583026\n",
      "Gender                     0.644592\n",
      "Trans                      1.090909\n",
      "Sexuality                  4.992631\n",
      "Ethnicity                  6.294880\n",
      "Dependents                 1.243560\n",
      "SurveyLength               0.166974\n",
      "SurveyEase                 0.122980\n",
      "dtype: float64\n"
     ]
    }
   ],
   "source": [
    "# your code goes here\n",
    "with pd.option_context('display.max_rows', None, 'display.max_columns', None): # 'with' becoz of a long coloumns list\n",
    "    print(df.isnull().sum()/df.count()*100)"
   ]
  },
  {
   "cell_type": "markdown",
   "metadata": {},
   "source": [
    "Find out how many rows are missing in the column 'WorkLoc'\n"
   ]
  },
  {
   "cell_type": "code",
   "execution_count": 10,
   "metadata": {},
   "outputs": [
    {
     "data": {
      "text/plain": [
       "32"
      ]
     },
     "execution_count": 10,
     "metadata": {},
     "output_type": "execute_result"
    }
   ],
   "source": [
    "# your code goes here\n",
    "df['WorkLoc'].isnull().sum()"
   ]
  },
  {
   "cell_type": "markdown",
   "metadata": {},
   "source": [
    "## Imputing missing values\n"
   ]
  },
  {
   "cell_type": "markdown",
   "metadata": {},
   "source": [
    "Find the  value counts for the column WorkLoc.\n"
   ]
  },
  {
   "cell_type": "code",
   "execution_count": 11,
   "metadata": {},
   "outputs": [
    {
     "data": {
      "text/plain": [
       "3"
      ]
     },
     "execution_count": 11,
     "metadata": {},
     "output_type": "execute_result"
    }
   ],
   "source": [
    "# your code goes here\n",
    "df['WorkLoc'].nunique() #how many unique value\n"
   ]
  },
  {
   "cell_type": "code",
   "execution_count": 12,
   "metadata": {},
   "outputs": [],
   "source": [
    "\n",
    "# Python program to check if two \n",
    "# to get unique values from list\n",
    "# using set \n",
    "  \n",
    "# function to get unique values\n",
    "def unique(list1):\n",
    "      \n",
    "    # insert the list to the set\n",
    "    list_set = set(list1)\n",
    "    # convert the set to the list\n",
    "    unique_list = (list(list_set))\n",
    "    for x in unique_list:\n",
    "        print (x),\n",
    "      "
   ]
  },
  {
   "cell_type": "code",
   "execution_count": 13,
   "metadata": {},
   "outputs": [
    {
     "name": "stdout",
     "output_type": "stream",
     "text": [
      "Office\n",
      "nan\n",
      "Other place, such as a coworking space or cafe\n",
      "Home\n"
     ]
    }
   ],
   "source": [
    "unique(df['WorkLoc']) #only string -- select value"
   ]
  },
  {
   "cell_type": "markdown",
   "metadata": {},
   "source": [
    "Identify the value that is most frequent (majority) in the WorkLoc column.\n"
   ]
  },
  {
   "cell_type": "code",
   "execution_count": 14,
   "metadata": {},
   "outputs": [
    {
     "data": {
      "text/plain": [
       "Office                                            6806\n",
       "Home                                              3589\n",
       "Other place, such as a coworking space or cafe     971\n",
       "Name: WorkLoc, dtype: int64"
      ]
     },
     "execution_count": 14,
     "metadata": {},
     "output_type": "execute_result"
    }
   ],
   "source": [
    "#make a note of the majority value here, for future reference\n",
    "df['WorkLoc'].value_counts()"
   ]
  },
  {
   "cell_type": "markdown",
   "metadata": {},
   "source": [
    "Impute (replace) all the empty rows in the column WorkLoc with the value that you have identified as majority.\n"
   ]
  },
  {
   "cell_type": "code",
   "execution_count": 15,
   "metadata": {},
   "outputs": [
    {
     "name": "stdout",
     "output_type": "stream",
     "text": [
      "Before: There are 32 empty rows in WorkLoc.\n"
     ]
    }
   ],
   "source": [
    "# your code goes here\n",
    "print(\"Before: There are\", df['WorkLoc'].isnull().sum(), \"empty rows in WorkLoc.\")"
   ]
  },
  {
   "cell_type": "code",
   "execution_count": 16,
   "metadata": {},
   "outputs": [],
   "source": [
    "import statistics\n",
    "import numpy as np\n",
    "workloc_mode = statistics.mode(df['WorkLoc'])\n",
    "df['WorkLoc'].replace(np.nan, workloc_mode, inplace=True)"
   ]
  },
  {
   "cell_type": "markdown",
   "metadata": {},
   "source": [
    "After imputation there should ideally not be any empty rows in the WorkLoc column.\n"
   ]
  },
  {
   "cell_type": "markdown",
   "metadata": {},
   "source": [
    "Verify if imputing was successful.\n"
   ]
  },
  {
   "cell_type": "code",
   "execution_count": 28,
   "metadata": {},
   "outputs": [
    {
     "name": "stdout",
     "output_type": "stream",
     "text": [
      "After: There are 11398 rows and 0 empty field in WorkLoc.\n"
     ]
    }
   ],
   "source": [
    "# your code goes here\n",
    "print(\"After: There are\", df['WorkLoc'].count(), \"rows and\", df['WorkLoc'].isnull().sum(), \"empty field in WorkLoc.\")"
   ]
  },
  {
   "cell_type": "markdown",
   "metadata": {},
   "source": [
    "## Normalizing data\n"
   ]
  },
  {
   "cell_type": "markdown",
   "metadata": {},
   "source": [
    "There are two columns in the dataset that talk about compensation.\n",
    "\n",
    "One is \"CompFreq\". This column shows how often a developer is paid (Yearly, Monthly, Weekly).\n",
    "\n",
    "The other is \"CompTotal\". This column talks about how much the developer is paid per Year, Month, or Week depending upon his/her \"CompFreq\".\n",
    "\n",
    "This makes it difficult to compare the total compensation of the developers.\n",
    "\n",
    "In this section you will create a new column called 'NormalizedAnnualCompensation' which contains the 'Annual Compensation' irrespective of the 'CompFreq'.\n",
    "\n",
    "Once this column is ready, it makes comparison of salaries easy.\n"
   ]
  },
  {
   "cell_type": "markdown",
   "metadata": {},
   "source": [
    "<hr>\n"
   ]
  },
  {
   "cell_type": "markdown",
   "metadata": {},
   "source": [
    "List out the various categories in the column 'CompFreq'\n"
   ]
  },
  {
   "cell_type": "code",
   "execution_count": 43,
   "metadata": {},
   "outputs": [
    {
     "name": "stdout",
     "output_type": "stream",
     "text": [
      "nan\n",
      "Yearly\n",
      "Monthly\n",
      "Weekly\n"
     ]
    }
   ],
   "source": [
    "# your code goes here\n",
    "CompFreq_uni = unique(df['CompFreq']) #only string -- select value"
   ]
  },
  {
   "cell_type": "code",
   "execution_count": 46,
   "metadata": {},
   "outputs": [
    {
     "data": {
      "text/plain": [
       "Computer science, computer engineering, or software engineering          6953\n",
       "Information systems, information technology, or system administration     794\n",
       "Another engineering discipline (ex. civil, electrical, mechanical)        759\n",
       "Web development or web design                                             410\n",
       "A natural science (ex. biology, chemistry, physics)                       403\n",
       "Mathematics or statistics                                                 372\n",
       "A business discipline (ex. accounting, finance, marketing)                244\n",
       "A social science (ex. anthropology, psychology, political science)        210\n",
       "A humanities discipline (ex. literature, history, philosophy)             207\n",
       "Fine arts or performing arts (ex. graphic design, music, studio art)      161\n",
       "I never declared a major                                                  124\n",
       "A health science (ex. nursing, pharmacy, radiology)                        24\n",
       "Name: UndergradMajor, dtype: int64"
      ]
     },
     "execution_count": 46,
     "metadata": {},
     "output_type": "execute_result"
    }
   ],
   "source": [
    "df['UndergradMajor'].value_counts()"
   ]
  },
  {
   "cell_type": "code",
   "execution_count": 44,
   "metadata": {},
   "outputs": [
    {
     "name": "stdout",
     "output_type": "stream",
     "text": [
      "nan\n",
      "Yearly\n",
      "Monthly\n",
      "Weekly\n"
     ]
    }
   ],
   "source": [
    "unique(df['CompFreq'])"
   ]
  },
  {
   "cell_type": "code",
   "execution_count": 29,
   "metadata": {
    "scrolled": true
   },
   "outputs": [
    {
     "data": {
      "text/plain": [
       "Yearly     6073\n",
       "Monthly    4788\n",
       "Weekly      331\n",
       "Name: CompFreq, dtype: int64"
      ]
     },
     "execution_count": 29,
     "metadata": {},
     "output_type": "execute_result"
    }
   ],
   "source": [
    "df['CompFreq'].value_counts()"
   ]
  },
  {
   "cell_type": "code",
   "execution_count": 32,
   "metadata": {},
   "outputs": [
    {
     "name": "stdout",
     "output_type": "stream",
     "text": [
      "There are 206 empty cell in CompFreq.\n"
     ]
    }
   ],
   "source": [
    "print(\"There are\",df['CompFreq'].isnull().sum(), \"empty cell in CompFreq.\")"
   ]
  },
  {
   "cell_type": "markdown",
   "metadata": {},
   "source": [
    "Create a new column named 'NormalizedAnnualCompensation'. Use the hint given below if needed.\n"
   ]
  },
  {
   "cell_type": "markdown",
   "metadata": {},
   "source": [
    "Double click to see the **Hint**.\n",
    "\n",
    "<!--\n",
    "\n",
    "Use the below logic to arrive at the values for the column NormalizedAnnualCompensation.\n",
    "\n",
    "If the CompFreq is Yearly then use the exising value in CompTotal\n",
    "If the CompFreq is Monthly then multiply the value in CompTotal with 12 (months in an year)\n",
    "If the CompFreq is Weekly then multiply the value in CompTotal with 52 (weeks in an year)\n",
    "\n",
    "-->\n"
   ]
  },
  {
   "cell_type": "code",
   "execution_count": 34,
   "metadata": {},
   "outputs": [
    {
     "data": {
      "text/html": [
       "<div>\n",
       "<style scoped>\n",
       "    .dataframe tbody tr th:only-of-type {\n",
       "        vertical-align: middle;\n",
       "    }\n",
       "\n",
       "    .dataframe tbody tr th {\n",
       "        vertical-align: top;\n",
       "    }\n",
       "\n",
       "    .dataframe thead th {\n",
       "        text-align: right;\n",
       "    }\n",
       "</style>\n",
       "<table border=\"1\" class=\"dataframe\">\n",
       "  <thead>\n",
       "    <tr style=\"text-align: right;\">\n",
       "      <th></th>\n",
       "      <th>CompTotal</th>\n",
       "      <th>CompFreq</th>\n",
       "      <th>NormalizedAnnualCompensation</th>\n",
       "    </tr>\n",
       "  </thead>\n",
       "  <tbody>\n",
       "    <tr>\n",
       "      <th>0</th>\n",
       "      <td>61000.0</td>\n",
       "      <td>Yearly</td>\n",
       "      <td>61000.0</td>\n",
       "    </tr>\n",
       "    <tr>\n",
       "      <th>1</th>\n",
       "      <td>138000.0</td>\n",
       "      <td>Yearly</td>\n",
       "      <td>138000.0</td>\n",
       "    </tr>\n",
       "    <tr>\n",
       "      <th>2</th>\n",
       "      <td>90000.0</td>\n",
       "      <td>Yearly</td>\n",
       "      <td>90000.0</td>\n",
       "    </tr>\n",
       "    <tr>\n",
       "      <th>3</th>\n",
       "      <td>29000.0</td>\n",
       "      <td>Monthly</td>\n",
       "      <td>348000.0</td>\n",
       "    </tr>\n",
       "    <tr>\n",
       "      <th>4</th>\n",
       "      <td>90000.0</td>\n",
       "      <td>Yearly</td>\n",
       "      <td>90000.0</td>\n",
       "    </tr>\n",
       "    <tr>\n",
       "      <th>5</th>\n",
       "      <td>9500.0</td>\n",
       "      <td>Monthly</td>\n",
       "      <td>114000.0</td>\n",
       "    </tr>\n",
       "    <tr>\n",
       "      <th>6</th>\n",
       "      <td>3000.0</td>\n",
       "      <td>Monthly</td>\n",
       "      <td>36000.0</td>\n",
       "    </tr>\n",
       "    <tr>\n",
       "      <th>7</th>\n",
       "      <td>103000.0</td>\n",
       "      <td>Yearly</td>\n",
       "      <td>103000.0</td>\n",
       "    </tr>\n",
       "    <tr>\n",
       "      <th>8</th>\n",
       "      <td>69000.0</td>\n",
       "      <td>Yearly</td>\n",
       "      <td>69000.0</td>\n",
       "    </tr>\n",
       "    <tr>\n",
       "      <th>9</th>\n",
       "      <td>8000.0</td>\n",
       "      <td>Monthly</td>\n",
       "      <td>96000.0</td>\n",
       "    </tr>\n",
       "    <tr>\n",
       "      <th>10</th>\n",
       "      <td>7000.0</td>\n",
       "      <td>Monthly</td>\n",
       "      <td>84000.0</td>\n",
       "    </tr>\n",
       "    <tr>\n",
       "      <th>11</th>\n",
       "      <td>114000.0</td>\n",
       "      <td>Yearly</td>\n",
       "      <td>114000.0</td>\n",
       "    </tr>\n",
       "    <tr>\n",
       "      <th>12</th>\n",
       "      <td>2000.0</td>\n",
       "      <td>Weekly</td>\n",
       "      <td>104000.0</td>\n",
       "    </tr>\n",
       "    <tr>\n",
       "      <th>13</th>\n",
       "      <td>22000.0</td>\n",
       "      <td>Weekly</td>\n",
       "      <td>1144000.0</td>\n",
       "    </tr>\n",
       "    <tr>\n",
       "      <th>14</th>\n",
       "      <td>96000.0</td>\n",
       "      <td>Monthly</td>\n",
       "      <td>1152000.0</td>\n",
       "    </tr>\n",
       "    <tr>\n",
       "      <th>15</th>\n",
       "      <td>156000.0</td>\n",
       "      <td>Yearly</td>\n",
       "      <td>156000.0</td>\n",
       "    </tr>\n",
       "    <tr>\n",
       "      <th>16</th>\n",
       "      <td>18000.0</td>\n",
       "      <td>Yearly</td>\n",
       "      <td>18000.0</td>\n",
       "    </tr>\n",
       "    <tr>\n",
       "      <th>17</th>\n",
       "      <td>6400.0</td>\n",
       "      <td>Monthly</td>\n",
       "      <td>76800.0</td>\n",
       "    </tr>\n",
       "    <tr>\n",
       "      <th>18</th>\n",
       "      <td>5000.0</td>\n",
       "      <td>Monthly</td>\n",
       "      <td>60000.0</td>\n",
       "    </tr>\n",
       "    <tr>\n",
       "      <th>19</th>\n",
       "      <td>400000.0</td>\n",
       "      <td>Yearly</td>\n",
       "      <td>400000.0</td>\n",
       "    </tr>\n",
       "  </tbody>\n",
       "</table>\n",
       "</div>"
      ],
      "text/plain": [
       "    CompTotal CompFreq  NormalizedAnnualCompensation\n",
       "0     61000.0   Yearly                       61000.0\n",
       "1    138000.0   Yearly                      138000.0\n",
       "2     90000.0   Yearly                       90000.0\n",
       "3     29000.0  Monthly                      348000.0\n",
       "4     90000.0   Yearly                       90000.0\n",
       "5      9500.0  Monthly                      114000.0\n",
       "6      3000.0  Monthly                       36000.0\n",
       "7    103000.0   Yearly                      103000.0\n",
       "8     69000.0   Yearly                       69000.0\n",
       "9      8000.0  Monthly                       96000.0\n",
       "10     7000.0  Monthly                       84000.0\n",
       "11   114000.0   Yearly                      114000.0\n",
       "12     2000.0   Weekly                      104000.0\n",
       "13    22000.0   Weekly                     1144000.0\n",
       "14    96000.0  Monthly                     1152000.0\n",
       "15   156000.0   Yearly                      156000.0\n",
       "16    18000.0   Yearly                       18000.0\n",
       "17     6400.0  Monthly                       76800.0\n",
       "18     5000.0  Monthly                       60000.0\n",
       "19   400000.0   Yearly                      400000.0"
      ]
     },
     "execution_count": 34,
     "metadata": {},
     "output_type": "execute_result"
    }
   ],
   "source": [
    "# your code goes here\n",
    "df.loc[df['CompFreq'] == 'Yearly', 'NormalizedAnnualCompensation']  = 1  * df['CompTotal']\n",
    "df.loc[df['CompFreq'] == 'Monthly', 'NormalizedAnnualCompensation'] = 12 * df['CompTotal']\n",
    "df.loc[df['CompFreq'] == 'Weekly', 'NormalizedAnnualCompensation']  = 52 * df['CompTotal']\n",
    "\n",
    "df[['CompTotal','CompFreq','NormalizedAnnualCompensation']].head(20)"
   ]
  },
  {
   "cell_type": "code",
   "execution_count": 47,
   "metadata": {},
   "outputs": [
    {
     "data": {
      "text/plain": [
       "100000.0"
      ]
     },
     "execution_count": 47,
     "metadata": {},
     "output_type": "execute_result"
    }
   ],
   "source": [
    "df['NormalizedAnnualCompensation'].median()"
   ]
  },
  {
   "cell_type": "markdown",
   "metadata": {},
   "source": [
    "## Authors\n"
   ]
  },
  {
   "cell_type": "markdown",
   "metadata": {},
   "source": [
    "Ramesh Sannareddy\n"
   ]
  },
  {
   "cell_type": "markdown",
   "metadata": {},
   "source": [
    "### Other Contributors\n"
   ]
  },
  {
   "cell_type": "markdown",
   "metadata": {},
   "source": [
    "Rav Ahuja\n"
   ]
  },
  {
   "cell_type": "markdown",
   "metadata": {},
   "source": [
    "## Change Log\n"
   ]
  },
  {
   "cell_type": "markdown",
   "metadata": {},
   "source": [
    "| Date (YYYY-MM-DD) | Version | Changed By        | Change Description                 |\n",
    "| ----------------- | ------- | ----------------- | ---------------------------------- |\n",
    "| 2020-10-17        | 0.1     | Ramesh Sannareddy | Created initial version of the lab |\n"
   ]
  },
  {
   "cell_type": "markdown",
   "metadata": {},
   "source": [
    "Copyright © 2020 IBM Corporation. This notebook and its source code are released under the terms of the [MIT License](https://cognitiveclass.ai/mit-license?utm_medium=Exinfluencer&utm_source=Exinfluencer&utm_content=000026UJ&utm_term=10006555&utm_id=NA-SkillsNetwork-Channel-SkillsNetworkCoursesIBMDA0321ENSkillsNetwork21426264-2022-01-01&cm_mmc=Email_Newsletter-\\_-Developer_Ed%2BTech-\\_-WW_WW-\\_-SkillsNetwork-Courses-IBM-DA0321EN-SkillsNetwork-21426264&cm_mmca1=000026UJ&cm_mmca2=10006555&cm_mmca3=M12345678&cvosrc=email.Newsletter.M12345678&cvo_campaign=000026UJ).\n"
   ]
  }
 ],
 "metadata": {
  "kernelspec": {
   "display_name": "Python 3.9",
   "language": "python",
   "name": "python3"
  },
  "language_info": {
   "codemirror_mode": {
    "name": "ipython",
    "version": 3
   },
   "file_extension": ".py",
   "mimetype": "text/x-python",
   "name": "python",
   "nbconvert_exporter": "python",
   "pygments_lexer": "ipython3",
   "version": "3.9.12"
  }
 },
 "nbformat": 4,
 "nbformat_minor": 4
}
